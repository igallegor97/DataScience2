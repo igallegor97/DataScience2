{
 "cells": [
  {
   "cell_type": "markdown",
   "id": "dff10391-adae-4d2d-9dd6-7ce7ecd7a83b",
   "metadata": {},
   "source": [
    "# Data Science Tools and Ecosystem"
   ]
  },
  {
   "cell_type": "markdown",
   "id": "153d1205-ca92-417a-9a9c-8554abf7f288",
   "metadata": {},
   "source": [
    "In this notebook, Data Science Tools and Ecosystem are summarized."
   ]
  },
  {
   "cell_type": "markdown",
   "id": "dc6e011b-4693-4f87-bbc5-f75aad7f3f67",
   "metadata": {},
   "source": [
    "**Objectives:**\n",
    "\n",
    "- R\n",
    "- Python\n",
    "- SQL"
   ]
  },
  {
   "cell_type": "markdown",
   "id": "4b8d1f5a-6d6f-4485-b1f2-4908988ee986",
   "metadata": {},
   "source": [
    "Some of the commonly used libraries used by Data Scientists include:\n",
    "\n",
    "1. ggplot\n",
    "2. PyTorch\n",
    "3. TensorFlow"
   ]
  },
  {
   "cell_type": "markdown",
   "id": "4224b262-033d-46cc-889e-dee5fc3d0817",
   "metadata": {},
   "source": [
    "### Below are a few examples of evaluating arithmetic expressions in Python"
   ]
  },
  {
   "cell_type": "code",
   "execution_count": 1,
   "id": "e77c14f0-a136-485d-9c63-cda9d70d8593",
   "metadata": {},
   "outputs": [
    {
     "data": {
      "text/plain": [
       "17"
      ]
     },
     "execution_count": 1,
     "metadata": {},
     "output_type": "execute_result"
    }
   ],
   "source": [
    "# This a simple arithmetic expression to mutiply then add integers\n",
    "\n",
    "(3*4)+5"
   ]
  },
  {
   "cell_type": "code",
   "execution_count": 2,
   "id": "2dc80756-1325-444a-ad3a-afb6ae7debd4",
   "metadata": {},
   "outputs": [
    {
     "data": {
      "text/plain": [
       "3.3333333333333335"
      ]
     },
     "execution_count": 2,
     "metadata": {},
     "output_type": "execute_result"
    }
   ],
   "source": [
    "# This will convert 200 minutes to hours by diving by 60\n",
    "\n",
    "200/60"
   ]
  },
  {
   "cell_type": "markdown",
   "id": "a6ce3ee7-016f-403e-97ad-057c7415716e",
   "metadata": {},
   "source": [
    "## Author\n",
    "\n",
    "Isabella Gallego Rendón"
   ]
  }
 ],
 "metadata": {
  "kernelspec": {
   "display_name": "Python 3 (ipykernel)",
   "language": "python",
   "name": "python3"
  },
  "language_info": {
   "codemirror_mode": {
    "name": "ipython",
    "version": 3
   },
   "file_extension": ".py",
   "mimetype": "text/x-python",
   "name": "python",
   "nbconvert_exporter": "python",
   "pygments_lexer": "ipython3",
   "version": "3.11.9"
  }
 },
 "nbformat": 4,
 "nbformat_minor": 5
}
